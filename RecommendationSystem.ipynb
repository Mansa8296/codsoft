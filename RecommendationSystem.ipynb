{
  "nbformat": 4,
  "nbformat_minor": 0,
  "metadata": {
    "colab": {
      "provenance": [],
      "authorship_tag": "ABX9TyPjp0t8e8bXahK85/89Anog",
      "include_colab_link": true
    },
    "kernelspec": {
      "name": "python3",
      "display_name": "Python 3"
    },
    "language_info": {
      "name": "python"
    }
  },
  "cells": [
    {
      "cell_type": "markdown",
      "metadata": {
        "id": "view-in-github",
        "colab_type": "text"
      },
      "source": [
        "<a href=\"https://colab.research.google.com/github/Mansa8296/codsoft/blob/main/RecommendationSystem.ipynb\" target=\"_parent\"><img src=\"https://colab.research.google.com/assets/colab-badge.svg\" alt=\"Open In Colab\"/></a>"
      ]
    },
    {
      "cell_type": "code",
      "source": [
        "import numpy as np\n",
        "from sklearn.metrics.pairwise import cosine_similarity\n",
        "\n",
        "# Define a dictionary of users and their movie ratings\n",
        "users = {\n",
        "    'Alice': [4, 5, 0, 0, 0],  # Ratings for movies [A, B, C, D, E]\n",
        "    'Bob': [5, 4, 0, 0, 0],\n",
        "    'Charlie': [0, 0, 5, 4, 0],\n",
        "    'David': [0, 0, 4, 5, 0],\n",
        "    'Eve': [0, 0, 0, 0, 5]\n",
        "}\n",
        "\n",
        "# Define a list of movie titles\n",
        "movies = ['Movie A', 'Movie B', 'Movie C', 'Movie D', 'Movie E']\n",
        "\n",
        "# Define a function to recommend movies to a target user\n",
        "def recommend_movies(target_user):\n",
        "    # Convert user ratings to numpy array\n",
        "    ratings = np.array(list(users.values()))\n",
        "\n",
        "    # Calculate cosine similarity between target user and other users\n",
        "    similarities = cosine_similarity([users[target_user]], ratings)\n",
        "\n",
        "    # Find top similar users (excluding the target user)\n",
        "    similar_users_indices = np.argsort(similarities[0])[::-1][1:]\n",
        "\n",
        "    # Recommend movies based on the preferences of similar users\n",
        "    recommended_movies = []\n",
        "    for movie_index in range(len(movies)):\n",
        "        if users[target_user][movie_index] == 0:  # Movie not yet rated by target user\n",
        "            # Calculate the average rating of the movie by similar users\n",
        "            avg_rating = np.mean([ratings[user_index][movie_index] for user_index in similar_users_indices if ratings[user_index][movie_index] != 0])\n",
        "            recommended_movies.append((movies[movie_index], avg_rating))\n",
        "\n",
        "    # Sort recommended movies by average rating in descending order\n",
        "    recommended_movies.sort(key=lambda x: x[1], reverse=True)\n",
        "\n",
        "    return recommended_movies\n",
        "\n",
        "# Test the recommendation system\n",
        "target_user = 'Bob'\n",
        "recommended_movies = recommend_movies(target_user)\n",
        "print(f\"Recommended movies for {target_user}:\")\n",
        "for movie, rating in recommended_movies:\n",
        "    print(f\"{movie}: {rating:.2f}\")\n"
      ],
      "metadata": {
        "colab": {
          "base_uri": "https://localhost:8080/"
        },
        "id": "MSg6cyCrgTEW",
        "outputId": "1ac950bc-c423-434e-eea7-91d73eb84819"
      },
      "execution_count": 5,
      "outputs": [
        {
          "output_type": "stream",
          "name": "stdout",
          "text": [
            "Recommended movies for Bob:\n",
            "Movie E: 5.00\n",
            "Movie C: 4.50\n",
            "Movie D: 4.50\n"
          ]
        }
      ]
    }
  ]
}