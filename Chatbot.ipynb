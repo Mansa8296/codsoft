{
  "nbformat": 4,
  "nbformat_minor": 0,
  "metadata": {
    "colab": {
      "provenance": [],
      "authorship_tag": "ABX9TyMgu2bx6sKzRQfCVW9VyFuk",
      "include_colab_link": true
    },
    "kernelspec": {
      "name": "python3",
      "display_name": "Python 3"
    },
    "language_info": {
      "name": "python"
    }
  },
  "cells": [
    {
      "cell_type": "markdown",
      "metadata": {
        "id": "view-in-github",
        "colab_type": "text"
      },
      "source": [
        "<a href=\"https://colab.research.google.com/github/Mansa8296/codsoft/blob/main/Chatbot.ipynb\" target=\"_parent\"><img src=\"https://colab.research.google.com/assets/colab-badge.svg\" alt=\"Open In Colab\"/></a>"
      ]
    },
    {
      "cell_type": "code",
      "source": [
        "def chatbot(user_input):\n",
        "    # Convert user input to lowercase for case-insensitive matching\n",
        "    user_input = user_input.lower()\n",
        "\n",
        "    # Define predefined rules and responses\n",
        "    responses = {\n",
        "        \"hi\": \"Hello! How can I help you?\",\n",
        "        \"hello\": \"Hi there! What can I do for you?\",\n",
        "        \"how are you\": \"I'm just a computer program, but I'm functioning well. Thanks for asking!\",\n",
        "        \"bye\": \"Goodbye! Have a great day!\",\n",
        "        \"thanks\": \"You're welcome!\",\n",
        "        \"help\": \"Sure, I'm here to assist you. What do you need help with?\"\n",
        "    }\n",
        "\n",
        "    # Check user input against predefined rules and provide appropriate responses\n",
        "    if user_input in responses:\n",
        "        return responses[user_input]\n",
        "    else:\n",
        "        return \"I'm sorry, I didn't understand that. Could you please rephrase or ask something else?\"\n",
        "\n",
        "# Main loop for interacting with the chatbot\n",
        "def main():\n",
        "    print(\"Welcome to the Simple Chatbot!\")\n",
        "    print(\"You can start chatting with the bot. Type 'bye' to exit.\")\n",
        "\n",
        "    while True:\n",
        "        user_input = input(\"You: \")\n",
        "        if user_input.lower() == 'bye':\n",
        "            print(chatbot(user_input))\n",
        "            break\n",
        "        else:\n",
        "            print(\"Chatbot:\", chatbot(user_input))\n",
        "\n",
        "if __name__ == \"__main__\":\n",
        "    main()\n"
      ],
      "metadata": {
        "colab": {
          "base_uri": "https://localhost:8080/"
        },
        "id": "Y9yxEfzne8zL",
        "outputId": "ba20de60-6718-4c35-c33c-af259a78d5af"
      },
      "execution_count": 3,
      "outputs": [
        {
          "output_type": "stream",
          "name": "stdout",
          "text": [
            "Welcome to the Simple Chatbot!\n",
            "You can start chatting with the bot. Type 'bye' to exit.\n",
            "You: hi\n",
            "Chatbot: Hello! How can I help you?\n",
            "You: how are you\n",
            "Chatbot: I'm just a computer program, but I'm functioning well. Thanks for asking!\n",
            "You: ok\n",
            "Chatbot: I'm sorry, I didn't understand that. Could you please rephrase or ask something else?\n",
            "You: bye\n",
            "Goodbye! Have a great day!\n"
          ]
        }
      ]
    }
  ]
}